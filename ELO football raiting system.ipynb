{
 "cells": [
  {
   "cell_type": "code",
   "execution_count": null,
   "id": "972e7eab",
   "metadata": {},
   "outputs": [],
   "source": [
    "# Эло рейтинг для футбола\n",
    "'''\n",
    "+/- 1. Создание игрока по имение и присовение ему стандартных параметров raiting и winrate.  Заведение их в сводную таблицу \n",
    "+/- 2. Выбор игроков участвующих в матче\n",
    "    3. Разбиение игроков на команды (команд больше 2). Ручной режим (пока хз как) и автоматическая балансировка\n",
    "+   4. Расчет ЭЛО-рейтинга для команд. \n",
    "    5. Перерасчет показателей rating и winrate для игроков по итогу матча (игроки пропустившие матч получают -0,5% от рейтинга)\n",
    "+   6. Сохраниеие данных. Импорт и экпорд данных.\n",
    "'''"
   ]
  },
  {
   "cell_type": "code",
   "execution_count": 1,
   "id": "2ea09d74",
   "metadata": {},
   "outputs": [],
   "source": [
    "import pandas as pd"
   ]
  },
  {
   "cell_type": "code",
   "execution_count": 2,
   "id": "362bfe6c",
   "metadata": {},
   "outputs": [],
   "source": [
    "def addPlayer(name, rating = 2500, games = 0, winrate = 0):\n",
    "    \"\"\"\n",
    "    Создание игрока\n",
    "    Если рейтинг не указан - присваевается стандартный (наверно 2500)\n",
    "    Если винрейт не указан - присваевается стандартный (0)\n",
    "    \"\"\"\n",
    "    name = name\n",
    "    rating = rating\n",
    "    games = games\n",
    "    winrate = winrate\n",
    "    newplayer = {'name':name, 'rating':rating, 'games':games, 'winrate':winrate}\n",
    "    \n",
    "#хз, пока не робит"
   ]
  },
  {
   "cell_type": "code",
   "execution_count": 3,
   "id": "2bf1c2e8",
   "metadata": {},
   "outputs": [],
   "source": [
    "def savePlayersList(PlayersList):\n",
    "    df.to_csv(\"PlayersList.csv\")\n",
    "    print(\"Сохранение завершено\")\n"
   ]
  },
  {
   "cell_type": "code",
   "execution_count": 4,
   "id": "6186f779",
   "metadata": {},
   "outputs": [],
   "source": [
    "def loadPlayersList(PlayersList):\n",
    "    df = pd.read_csv(\"PlayersList.csv\")\n",
    "    return df"
   ]
  },
  {
   "cell_type": "code",
   "execution_count": 5,
   "id": "0848d3e5",
   "metadata": {},
   "outputs": [],
   "source": [
    "def elo_raiting(team_a, team_b):\n",
    "    \"\"\"\n",
    "    Вычисляется ожидаемое количество очков\n",
    "    \"\"\"\n",
    "    return 1 / (1 + 10 ** ((team_b - team_a) / 400))"
   ]
  },
  {
   "cell_type": "code",
   "execution_count": null,
   "id": "c27562a6",
   "metadata": {},
   "outputs": [],
   "source": []
  },
  {
   "cell_type": "code",
   "execution_count": 6,
   "id": "21de24bc",
   "metadata": {},
   "outputs": [
    {
     "data": {
      "text/html": [
       "<div>\n",
       "<style scoped>\n",
       "    .dataframe tbody tr th:only-of-type {\n",
       "        vertical-align: middle;\n",
       "    }\n",
       "\n",
       "    .dataframe tbody tr th {\n",
       "        vertical-align: top;\n",
       "    }\n",
       "\n",
       "    .dataframe thead th {\n",
       "        text-align: right;\n",
       "    }\n",
       "</style>\n",
       "<table border=\"1\" class=\"dataframe\">\n",
       "  <thead>\n",
       "    <tr style=\"text-align: right;\">\n",
       "      <th></th>\n",
       "      <th>name</th>\n",
       "      <th>rating</th>\n",
       "      <th>games</th>\n",
       "      <th>winrate</th>\n",
       "    </tr>\n",
       "  </thead>\n",
       "  <tbody>\n",
       "    <tr>\n",
       "      <th>0</th>\n",
       "      <td>Максим</td>\n",
       "      <td>2690</td>\n",
       "      <td>0</td>\n",
       "      <td>0</td>\n",
       "    </tr>\n",
       "    <tr>\n",
       "      <th>1</th>\n",
       "      <td>Александр</td>\n",
       "      <td>2460</td>\n",
       "      <td>0</td>\n",
       "      <td>0</td>\n",
       "    </tr>\n",
       "    <tr>\n",
       "      <th>2</th>\n",
       "      <td>Роман</td>\n",
       "      <td>2950</td>\n",
       "      <td>0</td>\n",
       "      <td>0</td>\n",
       "    </tr>\n",
       "    <tr>\n",
       "      <th>3</th>\n",
       "      <td>Николай</td>\n",
       "      <td>2830</td>\n",
       "      <td>0</td>\n",
       "      <td>0</td>\n",
       "    </tr>\n",
       "    <tr>\n",
       "      <th>4</th>\n",
       "      <td>Андрей</td>\n",
       "      <td>3590</td>\n",
       "      <td>0</td>\n",
       "      <td>0</td>\n",
       "    </tr>\n",
       "  </tbody>\n",
       "</table>\n",
       "</div>"
      ],
      "text/plain": [
       "        name  rating  games  winrate\n",
       "0     Максим    2690      0        0\n",
       "1  Александр    2460      0        0\n",
       "2      Роман    2950      0        0\n",
       "3    Николай    2830      0        0\n",
       "4     Андрей    3590      0        0"
      ]
     },
     "execution_count": 6,
     "metadata": {},
     "output_type": "execute_result"
    }
   ],
   "source": [
    "#Тестовая табличка\n",
    "df = pd.DataFrame({'name':['Максим', 'Александр', 'Роман', 'Николай', 'Андрей'], \\\n",
    "                   'rating':[2690, 2460, 2950, 2830, 3590], \\\n",
    "                   'games':[0, 0, 0, 0, 0], \\\n",
    "                   'winrate':[0, 0, 0, 0, 0]})\n",
    "df"
   ]
  },
  {
   "cell_type": "code",
   "execution_count": 7,
   "id": "89df7dfd",
   "metadata": {},
   "outputs": [
    {
     "data": {
      "text/html": [
       "<div>\n",
       "<style scoped>\n",
       "    .dataframe tbody tr th:only-of-type {\n",
       "        vertical-align: middle;\n",
       "    }\n",
       "\n",
       "    .dataframe tbody tr th {\n",
       "        vertical-align: top;\n",
       "    }\n",
       "\n",
       "    .dataframe thead th {\n",
       "        text-align: right;\n",
       "    }\n",
       "</style>\n",
       "<table border=\"1\" class=\"dataframe\">\n",
       "  <thead>\n",
       "    <tr style=\"text-align: right;\">\n",
       "      <th></th>\n",
       "      <th>name</th>\n",
       "      <th>rating</th>\n",
       "      <th>games</th>\n",
       "      <th>winrate</th>\n",
       "    </tr>\n",
       "  </thead>\n",
       "  <tbody>\n",
       "    <tr>\n",
       "      <th>0</th>\n",
       "      <td>Максим</td>\n",
       "      <td>2690</td>\n",
       "      <td>0</td>\n",
       "      <td>0</td>\n",
       "    </tr>\n",
       "    <tr>\n",
       "      <th>1</th>\n",
       "      <td>Александр</td>\n",
       "      <td>2460</td>\n",
       "      <td>0</td>\n",
       "      <td>0</td>\n",
       "    </tr>\n",
       "    <tr>\n",
       "      <th>2</th>\n",
       "      <td>Роман</td>\n",
       "      <td>2950</td>\n",
       "      <td>0</td>\n",
       "      <td>0</td>\n",
       "    </tr>\n",
       "    <tr>\n",
       "      <th>3</th>\n",
       "      <td>Николай</td>\n",
       "      <td>2830</td>\n",
       "      <td>0</td>\n",
       "      <td>0</td>\n",
       "    </tr>\n",
       "    <tr>\n",
       "      <th>4</th>\n",
       "      <td>Андрей</td>\n",
       "      <td>3590</td>\n",
       "      <td>0</td>\n",
       "      <td>0</td>\n",
       "    </tr>\n",
       "    <tr>\n",
       "      <th>5</th>\n",
       "      <td>Костя</td>\n",
       "      <td>3230</td>\n",
       "      <td>0</td>\n",
       "      <td>0</td>\n",
       "    </tr>\n",
       "  </tbody>\n",
       "</table>\n",
       "</div>"
      ],
      "text/plain": [
       "        name  rating  games  winrate\n",
       "0     Максим    2690      0        0\n",
       "1  Александр    2460      0        0\n",
       "2      Роман    2950      0        0\n",
       "3    Николай    2830      0        0\n",
       "4     Андрей    3590      0        0\n",
       "5      Костя    3230      0        0"
      ]
     },
     "execution_count": 7,
     "metadata": {},
     "output_type": "execute_result"
    }
   ],
   "source": [
    "#Тестовове добавление игрока\n",
    "new_row = {'name':'Костя', 'rating':3230, 'games':0, 'winrate':0}\n",
    "df = df.append(new_row, ignore_index=True)\n",
    "df"
   ]
  },
  {
   "cell_type": "code",
   "execution_count": null,
   "id": "e7baa5fd",
   "metadata": {},
   "outputs": [],
   "source": []
  },
  {
   "cell_type": "code",
   "execution_count": 8,
   "id": "79397cd6",
   "metadata": {},
   "outputs": [
    {
     "data": {
      "text/plain": [
       "8875.0"
      ]
     },
     "execution_count": 8,
     "metadata": {},
     "output_type": "execute_result"
    }
   ],
   "source": [
    "df['rating'].sum()/2"
   ]
  },
  {
   "cell_type": "code",
   "execution_count": 9,
   "id": "f02a2e5f",
   "metadata": {},
   "outputs": [
    {
     "data": {
      "text/html": [
       "<div>\n",
       "<style scoped>\n",
       "    .dataframe tbody tr th:only-of-type {\n",
       "        vertical-align: middle;\n",
       "    }\n",
       "\n",
       "    .dataframe tbody tr th {\n",
       "        vertical-align: top;\n",
       "    }\n",
       "\n",
       "    .dataframe thead th {\n",
       "        text-align: right;\n",
       "    }\n",
       "</style>\n",
       "<table border=\"1\" class=\"dataframe\">\n",
       "  <thead>\n",
       "    <tr style=\"text-align: right;\">\n",
       "      <th></th>\n",
       "      <th>name</th>\n",
       "      <th>rating</th>\n",
       "      <th>games</th>\n",
       "      <th>winrate</th>\n",
       "    </tr>\n",
       "  </thead>\n",
       "  <tbody>\n",
       "    <tr>\n",
       "      <th>0</th>\n",
       "      <td>Максим</td>\n",
       "      <td>2690</td>\n",
       "      <td>0</td>\n",
       "      <td>0</td>\n",
       "    </tr>\n",
       "    <tr>\n",
       "      <th>2</th>\n",
       "      <td>Роман</td>\n",
       "      <td>2950</td>\n",
       "      <td>0</td>\n",
       "      <td>0</td>\n",
       "    </tr>\n",
       "  </tbody>\n",
       "</table>\n",
       "</div>"
      ],
      "text/plain": [
       "     name  rating  games  winrate\n",
       "0  Максим    2690      0        0\n",
       "2   Роман    2950      0        0"
      ]
     },
     "execution_count": 9,
     "metadata": {},
     "output_type": "execute_result"
    }
   ],
   "source": [
    "party = df.loc[df.name.isin(['Максим','Роман'])]\n",
    "party"
   ]
  },
  {
   "cell_type": "code",
   "execution_count": 10,
   "id": "a9de2f27",
   "metadata": {},
   "outputs": [
    {
     "name": "stdout",
     "output_type": "stream",
     "text": [
      "Максим\n"
     ]
    }
   ],
   "source": [
    "# Тестовый выбор участников игры\n",
    "\n",
    "player_name = str(input())\n",
    "number_of_players = df.loc[df.name.isin([player_name])]"
   ]
  },
  {
   "cell_type": "code",
   "execution_count": 11,
   "id": "9bbd168e",
   "metadata": {},
   "outputs": [
    {
     "ename": "SyntaxError",
     "evalue": "invalid syntax (<ipython-input-11-b3905b5759f9>, line 1)",
     "output_type": "error",
     "traceback": [
      "\u001b[1;36m  File \u001b[1;32m\"<ipython-input-11-b3905b5759f9>\"\u001b[1;36m, line \u001b[1;32m1\u001b[0m\n\u001b[1;33m    для балансировки команд\u001b[0m\n\u001b[1;37m        ^\u001b[0m\n\u001b[1;31mSyntaxError\u001b[0m\u001b[1;31m:\u001b[0m invalid syntax\n"
     ]
    }
   ],
   "source": [
    "для балансировки команд\n",
    "\"динамического программирования рюкзака\"\n"
   ]
  },
  {
   "cell_type": "code",
   "execution_count": null,
   "id": "0bf153fc",
   "metadata": {},
   "outputs": [],
   "source": [
    "https://coderoad.ru/890171/%D0%90%D0%BB%D0%B3%D0%BE%D1%80%D0%B8%D1%82%D0%BC-%D1%80%D0%B0%D0%B7%D0%B4%D0%B5%D0%BB%D0%B8%D1%82%D1%8C-%D1%81%D0%BF%D0%B8%D1%81%D0%BE%D0%BA-%D0%BD%D0%B0-2-%D1%80%D0%B0%D0%B2%D0%BD%D1%8B%D0%B5-%D0%BF%D0%B5%D1%80%D0%B5%D1%87%D0%B8%D1%81%D0%BB%D1%8F%D0%B5%D1%82-%D1%81%D1%83%D0%BC%D0%BC%D1%83"
   ]
  },
  {
   "cell_type": "code",
   "execution_count": null,
   "id": "60c9e14d",
   "metadata": {},
   "outputs": [],
   "source": []
  },
  {
   "cell_type": "code",
   "execution_count": 12,
   "id": "4593ce3f",
   "metadata": {},
   "outputs": [
    {
     "name": "stdout",
     "output_type": "stream",
     "text": [
      "8880 8970\n",
      "150 1002\n"
     ]
    }
   ],
   "source": [
    "def make_teams(que):\n",
    "    que.sort()\n",
    "    que.reverse()\n",
    "    if len(que)%2: que.insert(0,0)\n",
    "    t1,t2 = [],[]\n",
    "    while que:\n",
    "        if abs(len(t1)-len(t2))>=len(que):\n",
    "            [t1, t2][len(t1)>len(t2)].append(que.pop(0))\n",
    "        else:\n",
    "            [t1, t2][sum(t1)>sum(t2)].append(que.pop(0))\n",
    "    print(min(sum(t1),sum(t2)), max(sum(t1),sum(t2))), \"\\n\"\n",
    "\n",
    "if __name__==\"__main__\":\n",
    "    que = [2690,2460,2950,2830,3590,3230, 100]\n",
    "    make_teams(que)\n",
    "    que = [1, 1, 50, 50, 50, 1000]\n",
    "    make_teams(que)"
   ]
  },
  {
   "cell_type": "code",
   "execution_count": 13,
   "id": "37c2dd66",
   "metadata": {},
   "outputs": [
    {
     "data": {
      "text/plain": [
       "[0, 3590, 3230, 2950, 2830, 2690, 2460, 1]"
      ]
     },
     "execution_count": 13,
     "metadata": {},
     "output_type": "execute_result"
    }
   ],
   "source": [
    "que = [2690,2460,2950,2830,3590,3230, 1]\n",
    "que.sort()\n",
    "que.reverse()\n",
    "que.insert(0,0)\n",
    "que"
   ]
  },
  {
   "cell_type": "code",
   "execution_count": null,
   "id": "086f45b5",
   "metadata": {},
   "outputs": [],
   "source": []
  },
  {
   "cell_type": "raw",
   "id": "16bb4a80",
   "metadata": {},
   "source": [
    "По телеграм боту\n",
    "\n",
    "https://habr.com/ru/post/585546/\n",
    "\n",
    "https://mastergroosha.github.io/telegram-tutorial/docs/lesson_10/\n",
    "    \n",
    "https://www.youtube.com/watch?v=M8fhrtvedHA"
   ]
  },
  {
   "cell_type": "code",
   "execution_count": null,
   "id": "49adc054",
   "metadata": {},
   "outputs": [],
   "source": []
  },
  {
   "cell_type": "raw",
   "id": "fc61ab14",
   "metadata": {},
   "source": [
    "8886.266990816668 8966.266990816668"
   ]
  },
  {
   "cell_type": "code",
   "execution_count": 112,
   "id": "bcb570af",
   "metadata": {
    "scrolled": true
   },
   "outputs": [
    {
     "name": "stdout",
     "output_type": "stream",
     "text": [
      "Победа игрока B\n",
      "random =  0.019397155680571432\n",
      "Ea =  0.5232959721931102\n",
      "\n",
      "Рейтинга команды А до матча =  9984\n",
      "Изменение рейтинга для каждого игрока команды А после матча =  -26\n",
      "Рейтинга команды В до матча =  9822\n",
      "Изменение рейтинга для каждого игрока команды В после матча =  24\n",
      "\n",
      "Рейтинг игрока 1 до/после матча =  2704 / 2678\n",
      "Рейтинг игрока 2 до/после матча =  2957 / 2931\n",
      "Рейтинг игрока 3 до/после матча =  2019 / 1993\n",
      "Рейтинг игрока 4 до/после матча =  2304 / 2277\n",
      "Рейтинг игрока 6 до/после матча =  2261 / 2285\n",
      "Рейтинг игрока 7 до/после матча =  2342 / 2366\n",
      "Рейтинг игрока 8 до/после матча =  2454 / 2478\n",
      "Рейтинг игрока 9 до/после матча =  2764 / 2788\n"
     ]
    }
   ],
   "source": [
    "#Проверка системы Эло\n",
    "\n",
    "\n",
    "import random\n",
    "\n",
    "p = random.random()\n",
    "\n",
    "player1 = random.uniform(2000,3000)\n",
    "player2 = random.uniform(2000,3000)\n",
    "player3 = random.uniform(2000,3000)\n",
    "player4 = random.uniform(2000,3000)\n",
    "\n",
    "player6 = random.uniform(2000,3000)\n",
    "player7 = random.uniform(2000,3000)\n",
    "player8 = random.uniform(2000,3000)\n",
    "player9 = random.uniform(2000,3000)\n",
    "\n",
    "K = 50\n",
    "team_a = player1 + player2 + player3 + player4\n",
    "team_b = player6 + player7 + player8 + player9\n",
    "\n",
    "Ea = 1 / (1 + 10 ** ((team_b - team_a) / 4000))\n",
    "\n",
    "#Расчет нового рейтинга\n",
    "if p >= 0.45:\n",
    "    Ra = team_a + K * (1 - Ea)\n",
    "    Rb = team_b + K * (0 - Ea)\n",
    "       \n",
    "else:\n",
    "    Ra = team_a + K * (0 - Ea)\n",
    "    Rb = team_b + K * (1 - Ea)\n",
    "\n",
    "    \n",
    "if p >= 0.45:\n",
    "    print(\"Победа игрока А\")\n",
    "else:\n",
    "    print(\"Победа игрока B\")\n",
    "\n",
    "print(\"random = \", p)   \n",
    "print(\"Ea = \", Ea)\n",
    "\n",
    "print()\n",
    "\n",
    "print('Рейтинга команды А до матча = ', round(team_a))\n",
    "print('Изменение рейтинга для каждого игрока команды А после матча = ', round(Ra - team_a))\n",
    "\n",
    "print('Рейтинга команды В до матча = ', round(team_b))\n",
    "print('Изменение рейтинга для каждого игрока команды В после матча = ', round(Rb - team_b))\n",
    "\n",
    "print()\n",
    "\n",
    "print('Рейтинг игрока 1 до/после матча = ', round(player1), \"/\", round(player1 + (Ra - team_a)))\n",
    "print('Рейтинг игрока 2 до/после матча = ', round(player2), \"/\", round(player2 + (Ra - team_a)))\n",
    "print('Рейтинг игрока 3 до/после матча = ', round(player3), \"/\", round(player3 + (Ra - team_a)))\n",
    "print('Рейтинг игрока 4 до/после матча = ', round(player4), \"/\", round(player4 + (Ra - team_a)))\n",
    "print('Рейтинг игрока 6 до/после матча = ', round(player6), \"/\", round(player6 + (Rb - team_b)))\n",
    "print('Рейтинг игрока 7 до/после матча = ', round(player7), \"/\", round(player7 + (Rb - team_b)))\n",
    "print('Рейтинг игрока 8 до/после матча = ', round(player8), \"/\", round(player8 + (Rb - team_b)))\n",
    "print('Рейтинг игрока 9 до/после матча = ', round(player9), \"/\", round(player9 + (Rb - team_b)))\n",
    "\n",
    "\n"
   ]
  },
  {
   "cell_type": "code",
   "execution_count": null,
   "id": "7ffeade4",
   "metadata": {},
   "outputs": [],
   "source": []
  },
  {
   "cell_type": "code",
   "execution_count": null,
   "id": "b1a9ebe0",
   "metadata": {},
   "outputs": [],
   "source": []
  },
  {
   "cell_type": "code",
   "execution_count": null,
   "id": "eff4de4c",
   "metadata": {},
   "outputs": [],
   "source": []
  },
  {
   "cell_type": "code",
   "execution_count": null,
   "id": "c002f586",
   "metadata": {},
   "outputs": [],
   "source": []
  }
 ],
 "metadata": {
  "kernelspec": {
   "display_name": "Python 3",
   "language": "python",
   "name": "python3"
  },
  "language_info": {
   "codemirror_mode": {
    "name": "ipython",
    "version": 3
   },
   "file_extension": ".py",
   "mimetype": "text/x-python",
   "name": "python",
   "nbconvert_exporter": "python",
   "pygments_lexer": "ipython3",
   "version": "3.8.8"
  }
 },
 "nbformat": 4,
 "nbformat_minor": 5
}
