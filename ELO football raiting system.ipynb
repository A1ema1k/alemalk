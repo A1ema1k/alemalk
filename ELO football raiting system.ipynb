{
 "cells": [
  {
   "cell_type": "raw",
   "id": "415a452b",
   "metadata": {},
   "source": [
    "# Эло рейтинг для футбола\n",
    "'''\n",
    "+/- 1. Создание игрока по имение и присовение ему стандартных параметров raiting и winrate.  Заведение их в сводную таблицу \n",
    "+/- 2. Выбор игроков участвующих в матче\n",
    "    3. Разбиение игроков на команды (команд больше 2). Ручной режим (пока хз как) и автоматическая балансировка\n",
    "+   4. Расчет ЭЛО-рейтинга для команд. \n",
    "    5. Перерасчет показателей rating и winrate для игроков по итогу матча (игроки пропустившие матч получают -0,5% от рейтинга)\n",
    "+   6. Сохраниеие данных. Импорт и экпорд данных.\n",
    "'''"
   ]
  },
  {
   "cell_type": "code",
   "execution_count": 1,
   "id": "2ea09d74",
   "metadata": {},
   "outputs": [],
   "source": [
    "import pandas as pd"
   ]
  },
  {
   "cell_type": "code",
   "execution_count": 2,
   "id": "362bfe6c",
   "metadata": {},
   "outputs": [],
   "source": [
    "def addPlayer(name, rating = 2500, games = 0, winrate = 0):\n",
    "    \"\"\"\n",
    "    Создание игрока\n",
    "    Если рейтинг не указан - присваевается стандартный (наверно 2500)\n",
    "    Если винрейт не указан - присваевается стандартный (0)\n",
    "    \"\"\"\n",
    "    name = name\n",
    "    rating = rating\n",
    "    games = games\n",
    "    winrate = winrate\n",
    "    newplayer = {'name':name, 'rating':rating, 'games':games, 'winrate':winrate}\n",
    "    \n",
    "#хз, пока не робит"
   ]
  },
  {
   "cell_type": "code",
   "execution_count": 3,
   "id": "2bf1c2e8",
   "metadata": {},
   "outputs": [],
   "source": [
    "def savePlayersList(PlayersList):\n",
    "    df.to_csv(\"PlayersList.csv\")\n",
    "    print(\"Сохранение завершено\")\n"
   ]
  },
  {
   "cell_type": "code",
   "execution_count": 4,
   "id": "6186f779",
   "metadata": {},
   "outputs": [],
   "source": [
    "def loadPlayersList(PlayersList):\n",
    "    df = pd.read_csv(\"PlayersList.csv\")\n",
    "    return df"
   ]
  },
  {
   "cell_type": "code",
   "execution_count": 5,
   "id": "0848d3e5",
   "metadata": {},
   "outputs": [],
   "source": [
    "def elo_raiting(team_a, team_b):\n",
    "    \"\"\"\n",
    "    Вычисляется ожидаемое количество очков\n",
    "    \"\"\"\n",
    "    return 1 / (1 + 10 ** ((team_b - team_a) / 400))"
   ]
  },
  {
   "cell_type": "code",
   "execution_count": null,
   "id": "c27562a6",
   "metadata": {},
   "outputs": [],
   "source": []
  },
  {
   "cell_type": "code",
   "execution_count": 30,
   "id": "21de24bc",
   "metadata": {},
   "outputs": [
    {
     "data": {
      "text/html": [
       "<div>\n",
       "<style scoped>\n",
       "    .dataframe tbody tr th:only-of-type {\n",
       "        vertical-align: middle;\n",
       "    }\n",
       "\n",
       "    .dataframe tbody tr th {\n",
       "        vertical-align: top;\n",
       "    }\n",
       "\n",
       "    .dataframe thead th {\n",
       "        text-align: right;\n",
       "    }\n",
       "</style>\n",
       "<table border=\"1\" class=\"dataframe\">\n",
       "  <thead>\n",
       "    <tr style=\"text-align: right;\">\n",
       "      <th></th>\n",
       "      <th>name</th>\n",
       "      <th>rating</th>\n",
       "      <th>games</th>\n",
       "      <th>winrate</th>\n",
       "    </tr>\n",
       "  </thead>\n",
       "  <tbody>\n",
       "    <tr>\n",
       "      <th>0</th>\n",
       "      <td>Максим</td>\n",
       "      <td>2690</td>\n",
       "      <td>0</td>\n",
       "      <td>0</td>\n",
       "    </tr>\n",
       "    <tr>\n",
       "      <th>1</th>\n",
       "      <td>Александр</td>\n",
       "      <td>2460</td>\n",
       "      <td>0</td>\n",
       "      <td>0</td>\n",
       "    </tr>\n",
       "    <tr>\n",
       "      <th>2</th>\n",
       "      <td>Роман</td>\n",
       "      <td>2950</td>\n",
       "      <td>0</td>\n",
       "      <td>0</td>\n",
       "    </tr>\n",
       "    <tr>\n",
       "      <th>3</th>\n",
       "      <td>Николай</td>\n",
       "      <td>2830</td>\n",
       "      <td>0</td>\n",
       "      <td>0</td>\n",
       "    </tr>\n",
       "    <tr>\n",
       "      <th>4</th>\n",
       "      <td>Андрей</td>\n",
       "      <td>3590</td>\n",
       "      <td>0</td>\n",
       "      <td>0</td>\n",
       "    </tr>\n",
       "  </tbody>\n",
       "</table>\n",
       "</div>"
      ],
      "text/plain": [
       "        name  rating  games  winrate\n",
       "0     Максим    2690      0        0\n",
       "1  Александр    2460      0        0\n",
       "2      Роман    2950      0        0\n",
       "3    Николай    2830      0        0\n",
       "4     Андрей    3590      0        0"
      ]
     },
     "execution_count": 30,
     "metadata": {},
     "output_type": "execute_result"
    }
   ],
   "source": [
    "#Тестовая табличка\n",
    "df = pd.DataFrame({'name':['Максим', 'Александр', 'Роман', 'Николай', 'Андрей'], \\\n",
    "                   'rating':[2690, 2460, 2950, 2830, 3590], \\\n",
    "                   'games':[0, 0, 0, 0, 0], \\\n",
    "                   'winrate':[0, 0, 0, 0, 0]})\n",
    "df"
   ]
  },
  {
   "cell_type": "code",
   "execution_count": 31,
   "id": "89df7dfd",
   "metadata": {},
   "outputs": [
    {
     "data": {
      "text/html": [
       "<div>\n",
       "<style scoped>\n",
       "    .dataframe tbody tr th:only-of-type {\n",
       "        vertical-align: middle;\n",
       "    }\n",
       "\n",
       "    .dataframe tbody tr th {\n",
       "        vertical-align: top;\n",
       "    }\n",
       "\n",
       "    .dataframe thead th {\n",
       "        text-align: right;\n",
       "    }\n",
       "</style>\n",
       "<table border=\"1\" class=\"dataframe\">\n",
       "  <thead>\n",
       "    <tr style=\"text-align: right;\">\n",
       "      <th></th>\n",
       "      <th>name</th>\n",
       "      <th>rating</th>\n",
       "      <th>games</th>\n",
       "      <th>winrate</th>\n",
       "    </tr>\n",
       "  </thead>\n",
       "  <tbody>\n",
       "    <tr>\n",
       "      <th>0</th>\n",
       "      <td>Максим</td>\n",
       "      <td>2690</td>\n",
       "      <td>0</td>\n",
       "      <td>0</td>\n",
       "    </tr>\n",
       "    <tr>\n",
       "      <th>1</th>\n",
       "      <td>Александр</td>\n",
       "      <td>2460</td>\n",
       "      <td>0</td>\n",
       "      <td>0</td>\n",
       "    </tr>\n",
       "    <tr>\n",
       "      <th>2</th>\n",
       "      <td>Роман</td>\n",
       "      <td>2950</td>\n",
       "      <td>0</td>\n",
       "      <td>0</td>\n",
       "    </tr>\n",
       "    <tr>\n",
       "      <th>3</th>\n",
       "      <td>Николай</td>\n",
       "      <td>2830</td>\n",
       "      <td>0</td>\n",
       "      <td>0</td>\n",
       "    </tr>\n",
       "    <tr>\n",
       "      <th>4</th>\n",
       "      <td>Андрей</td>\n",
       "      <td>3590</td>\n",
       "      <td>0</td>\n",
       "      <td>0</td>\n",
       "    </tr>\n",
       "    <tr>\n",
       "      <th>5</th>\n",
       "      <td>Костя</td>\n",
       "      <td>3230</td>\n",
       "      <td>0</td>\n",
       "      <td>0</td>\n",
       "    </tr>\n",
       "  </tbody>\n",
       "</table>\n",
       "</div>"
      ],
      "text/plain": [
       "        name  rating  games  winrate\n",
       "0     Максим    2690      0        0\n",
       "1  Александр    2460      0        0\n",
       "2      Роман    2950      0        0\n",
       "3    Николай    2830      0        0\n",
       "4     Андрей    3590      0        0\n",
       "5      Костя    3230      0        0"
      ]
     },
     "execution_count": 31,
     "metadata": {},
     "output_type": "execute_result"
    }
   ],
   "source": [
    "#Тестовове добавление игрока\n",
    "new_row = {'name':'Костя', 'rating':3230, 'games':0, 'winrate':0}\n",
    "df = df.append(new_row, ignore_index=True)\n",
    "df"
   ]
  },
  {
   "cell_type": "code",
   "execution_count": null,
   "id": "e7baa5fd",
   "metadata": {},
   "outputs": [],
   "source": []
  },
  {
   "cell_type": "code",
   "execution_count": 35,
   "id": "79397cd6",
   "metadata": {},
   "outputs": [
    {
     "data": {
      "text/plain": [
       "8875.0"
      ]
     },
     "execution_count": 35,
     "metadata": {},
     "output_type": "execute_result"
    }
   ],
   "source": [
    "df['rating'].sum()/2"
   ]
  },
  {
   "cell_type": "code",
   "execution_count": 32,
   "id": "f02a2e5f",
   "metadata": {},
   "outputs": [
    {
     "data": {
      "text/html": [
       "<div>\n",
       "<style scoped>\n",
       "    .dataframe tbody tr th:only-of-type {\n",
       "        vertical-align: middle;\n",
       "    }\n",
       "\n",
       "    .dataframe tbody tr th {\n",
       "        vertical-align: top;\n",
       "    }\n",
       "\n",
       "    .dataframe thead th {\n",
       "        text-align: right;\n",
       "    }\n",
       "</style>\n",
       "<table border=\"1\" class=\"dataframe\">\n",
       "  <thead>\n",
       "    <tr style=\"text-align: right;\">\n",
       "      <th></th>\n",
       "      <th>name</th>\n",
       "      <th>rating</th>\n",
       "      <th>games</th>\n",
       "      <th>winrate</th>\n",
       "    </tr>\n",
       "  </thead>\n",
       "  <tbody>\n",
       "    <tr>\n",
       "      <th>0</th>\n",
       "      <td>Максим</td>\n",
       "      <td>2690</td>\n",
       "      <td>0</td>\n",
       "      <td>0</td>\n",
       "    </tr>\n",
       "    <tr>\n",
       "      <th>2</th>\n",
       "      <td>Роман</td>\n",
       "      <td>2950</td>\n",
       "      <td>0</td>\n",
       "      <td>0</td>\n",
       "    </tr>\n",
       "  </tbody>\n",
       "</table>\n",
       "</div>"
      ],
      "text/plain": [
       "     name  rating  games  winrate\n",
       "0  Максим    2690      0        0\n",
       "2   Роман    2950      0        0"
      ]
     },
     "execution_count": 32,
     "metadata": {},
     "output_type": "execute_result"
    }
   ],
   "source": [
    "party = df.loc[df.name.isin(['Максим','Роман'])]\n",
    "party"
   ]
  },
  {
   "cell_type": "code",
   "execution_count": 9,
   "id": "a9de2f27",
   "metadata": {},
   "outputs": [
    {
     "name": "stdout",
     "output_type": "stream",
     "text": [
      "Николай\n"
     ]
    }
   ],
   "source": [
    "# Тестовый выбор участников игры\n",
    "\n",
    "player_name = str(input())\n",
    "number_of_players = df.loc[df.name.isin([player_name])]"
   ]
  },
  {
   "cell_type": "code",
   "execution_count": null,
   "id": "9bbd168e",
   "metadata": {},
   "outputs": [],
   "source": [
    "для балансировки команд\n",
    "\"динамического программирования рюкзака\"\n"
   ]
  },
  {
   "cell_type": "code",
   "execution_count": null,
   "id": "0bf153fc",
   "metadata": {},
   "outputs": [],
   "source": [
    "https://coderoad.ru/890171/%D0%90%D0%BB%D0%B3%D0%BE%D1%80%D0%B8%D1%82%D0%BC-%D1%80%D0%B0%D0%B7%D0%B4%D0%B5%D0%BB%D0%B8%D1%82%D1%8C-%D1%81%D0%BF%D0%B8%D1%81%D0%BE%D0%BA-%D0%BD%D0%B0-2-%D1%80%D0%B0%D0%B2%D0%BD%D1%8B%D0%B5-%D0%BF%D0%B5%D1%80%D0%B5%D1%87%D0%B8%D1%81%D0%BB%D1%8F%D0%B5%D1%82-%D1%81%D1%83%D0%BC%D0%BC%D1%83"
   ]
  },
  {
   "cell_type": "code",
   "execution_count": null,
   "id": "60c9e14d",
   "metadata": {},
   "outputs": [],
   "source": []
  },
  {
   "cell_type": "code",
   "execution_count": 10,
   "id": "4593ce3f",
   "metadata": {},
   "outputs": [
    {
     "name": "stdout",
     "output_type": "stream",
     "text": [
      "8880 8970\n",
      "150 1002\n"
     ]
    }
   ],
   "source": [
    "def make_teams(que):\n",
    "    que.sort()\n",
    "    que.reverse()\n",
    "    if len(que)%2: que.insert(0,0)\n",
    "    t1,t2 = [],[]\n",
    "    while que:\n",
    "        if abs(len(t1)-len(t2))>=len(que):\n",
    "            [t1, t2][len(t1)>len(t2)].append(que.pop(0))\n",
    "        else:\n",
    "            [t1, t2][sum(t1)>sum(t2)].append(que.pop(0))\n",
    "    print(min(sum(t1),sum(t2)), max(sum(t1),sum(t2))), \"\\n\"\n",
    "\n",
    "if __name__==\"__main__\":\n",
    "    que = [2690,2460,2950,2830,3590,3230, 100]\n",
    "    make_teams(que)\n",
    "    que = [1, 1, 50, 50, 50, 1000]\n",
    "    make_teams(que)"
   ]
  },
  {
   "cell_type": "code",
   "execution_count": 6,
   "id": "37c2dd66",
   "metadata": {},
   "outputs": [
    {
     "data": {
      "text/plain": [
       "[0, 3590, 3230, 2950, 2830, 2690, 2460, 1]"
      ]
     },
     "execution_count": 6,
     "metadata": {},
     "output_type": "execute_result"
    }
   ],
   "source": [
    "que = [2690,2460,2950,2830,3590,3230, 1]\n",
    "que.sort()\n",
    "que.reverse()\n",
    "que.insert(0,0)\n",
    "que"
   ]
  },
  {
   "cell_type": "code",
   "execution_count": null,
   "id": "086f45b5",
   "metadata": {},
   "outputs": [],
   "source": []
  },
  {
   "cell_type": "raw",
   "id": "16bb4a80",
   "metadata": {},
   "source": [
    "По телеграм боту\n",
    "\n",
    "https://habr.com/ru/post/585546/\n",
    "\n",
    "https://mastergroosha.github.io/telegram-tutorial/docs/lesson_10/\n",
    "    \n",
    "https://www.youtube.com/watch?v=M8fhrtvedHA"
   ]
  }
 ],
 "metadata": {
  "kernelspec": {
   "display_name": "Python 3",
   "language": "python",
   "name": "python3"
  },
  "language_info": {
   "codemirror_mode": {
    "name": "ipython",
    "version": 3
   },
   "file_extension": ".py",
   "mimetype": "text/x-python",
   "name": "python",
   "nbconvert_exporter": "python",
   "pygments_lexer": "ipython3",
   "version": "3.8.8"
  }
 },
 "nbformat": 4,
 "nbformat_minor": 5
}
